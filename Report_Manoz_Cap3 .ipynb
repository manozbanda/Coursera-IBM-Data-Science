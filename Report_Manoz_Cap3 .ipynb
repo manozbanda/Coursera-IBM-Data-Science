{
 "cells": [
  {
   "attachments": {},
   "cell_type": "markdown",
   "metadata": {},
   "source": [
    "# A Smart System for Location Selection  for A Provision's Supplier!"
   ]
  },
  {
   "cell_type": "markdown",
   "metadata": {},
   "source": [
    "# Brief Introduction"
   ]
  },
  {
   "attachments": {},
   "cell_type": "markdown",
   "metadata": {},
   "source": [
    "## Part 1: Problem Description\n",
    "### There is a provisions supplier  in one of the boroughs of Toronto (Scarborough). He supplies for a wide range of customer base which include Different types of Grocery Stores, Super Markets, Restaurants, Bakery, Brewery and Café.  The supplier plans to build a warehouse for the provisions to store the raw materials  bought from the farmers inside the borough, so that they will support more customers and also bring better \"Quality of Service“ with less time delays to the existing customers.\n",
    "\n",
    "### For example, if the warehouse is close to dense location restaurants, then the vegetables and other groceries would be delivered to the restaurant in the right time and with less supply chain investment as well as faster location.\n",
    "\n",
    "###  Finding the right neighborhood is our mission and our smart recommender system will provide this supplier  with a sorted list of neighborhoods in which the first elemnt of the list will be the best suggested neighborhood."
   ]
  },
  {
   "cell_type": "markdown",
   "metadata": {},
   "source": [
    "## Part 2: Data We Need\n",
    "### 1- We will need geo-locational information about that specific borough and the neighborhoods in that borough. We specifically and technically mean the latitude and longitude numbers of that borough. We assume that it is \"Scarborough\" in Toronto. This is easily provided for us by the supplier , because the supplier has already decided about the borough. So ultimately we need Latitute, Longitude, Postal codes, similar to the previous assignments along with the distances of the neighborhoods.\n",
    "\n",
    "### 2-  In order to gain that information  about the neighborhood we will use \"Foursquare\" locational information. By locational information for each venue we mean basic and advanced information about that venue. For example there is a venue in one of the neighborhoods. As basic information, we can obtain its precise latitude and longitude and also its distance from the center of the neighborhood. But we are looking for advanced information such as the category of that venue and whether this venue is a popular one in its category or maybe the average price of the services of this venue. A typical request from Foursquare will provide us with  the following information:\n",
    "#### [Postal Code]\t[Neighborhood(s)]\t[Neighborhood Latitude]\t[Neighborhood Longitude]\t[Venue]\t[Venue Summary]\t[Venue Category]\t[Distance (meter)]\n",
    "#### [M1L]\t[Clairlea, Golden Mile, Oakridge]\t[43.711112]\t[-79.284577]\t[Tim Hortons]\t[This spot is popular]\t[Coffee Shop]\t[592]"
   ]
  },
  {
   "cell_type": "markdown",
   "metadata": {},
   "source": []
  }
 ],
 "metadata": {
  "kernelspec": {
   "display_name": "Python 3",
   "language": "python",
   "name": "python3"
  },
  "language_info": {
   "codemirror_mode": {
    "name": "ipython",
    "version": 3
   },
   "file_extension": ".py",
   "mimetype": "text/x-python",
   "name": "python",
   "nbconvert_exporter": "python",
   "pygments_lexer": "ipython3",
   "version": "3.7.4"
  }
 },
 "nbformat": 4,
 "nbformat_minor": 2
}
