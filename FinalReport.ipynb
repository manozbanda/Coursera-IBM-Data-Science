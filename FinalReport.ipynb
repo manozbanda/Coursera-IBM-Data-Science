{
 "cells": [
  {
   "cell_type": "markdown",
   "metadata": {},
   "source": [
    "# A Smart System for Location Selection  for A Provision's Supplier!\n"
   ]
  },
  {
   "cell_type": "markdown",
   "metadata": {},
   "source": [
    "# Brief Introduction"
   ]
  },
  {
   "cell_type": "markdown",
   "metadata": {},
   "source": [
    "## Part 1: Problem Description\n",
    "### There is a provisions supplier  in one of the boroughs of Toronto (Scarborough). He supplies for a wide range of customer base which include Different types of Grocery Stores, Super Markets, Restaurants, Bakery, Brewery and Café.  The supplier plans to build a warehouse for the provisions to store the raw materials  bought from the farmers inside the borough, so that they will support more customers and also bring better \"Quality of Service“ with less time delays to the existing customers.\n",
    "\n",
    "### For example, if the warehouse is close to dense location restaurants, then the vegetables and other groceries would be delivered to the restaurant in the right time and with less supply chain investment as well as faster location.\n",
    "\n",
    "###  Finding the right neighborhood is our mission and our smart recommender system will provide this supplier  with a sorted list of neighborhoods in which the first elemnt of the list will be the best suggested neighborhood."
   ]
  },
  {
   "cell_type": "markdown",
   "metadata": {},
   "source": [
    "## Part 2: Data We Need\n",
    "### 1- We will need geo-locational information about that specific borough and the neighborhoods in that borough. We specifically and technically mean the latitude and longitude numbers of that borough. We assume that it is \"Scarborough\" in Toronto. This is easily provided for us by the supplier , because the supplier has already decided about the borough. So ultimately we need Latitute, Longitude, Postal codes, similar to the previous assignments along with the distances of the neighborhoods.\n",
    "\n",
    "### 2-  In order to gain that information  about the neighborhood we will use \"Foursquare\" locational information. By locational information for each venue we mean basic and advanced information about that venue. For example there is a venue in one of the neighborhoods. As basic information, we can obtain its precise latitude and longitude and also its distance from the center of the neighborhood. But we are looking for advanced information such as the category of that venue and whether this venue is a popular one in its category or maybe the average price of the services of this venue. A typical request from Foursquare will provide us with  the following information:\n",
    "#### [Postal Code]\t[Neighborhood(s)]\t[Neighborhood Latitude]\t[Neighborhood Longitude]\t[Venue]\t[Venue Summary]\t[Venue Category]\t[Distance (meter)]\n",
    "#### [M1L]\t[Clairlea, Golden Mile, Oakridge]\t[43.711112]\t[-79.284577]\t[Tim Hortons]\t[This spot is popular]\t[Coffee Shop]\t[592]"
   ]
  },
  {
   "cell_type": "markdown",
   "metadata": {},
   "source": [
    "### Some Notes about \"Foursquare\": <https://foursquare.com/>\n",
    "##### Foursquare is a local search-and-discovery service mobile app which provides search results for its users (Wikipedia).\n",
    "##### Founded: New York City, New York, U.S\n",
    "##### Users: 60 million\n",
    "##### Date launched: March 11, 2009\n",
    "##### Employees: Over 200\n",
    "##### Founders: Dennis Crowley, Naveen Selvadurai\n",
    "##### Owner: Foursquare Labs, Inc."
   ]
  },
  {
   "cell_type": "markdown",
   "metadata": {},
   "source": [
    "# Main Article\n",
    "## Part 1: Identifying Neighborhoods inside \"Scarborough\"\n",
    "### We will use Postal Codes of different regions inside Scarborough to find the list of neighborhoods. We will essentially obtain our information from <https://en.wikipedia.org/wiki/List_of_postal_codes_of_Canada:_M> and then process the table inside this site. Images from dataframes and also from maps will be provided in the presentation. Here we only present our strategy and how we got the mission accomplished. "
   ]
  },
  {
   "cell_type": "markdown",
   "metadata": {},
   "source": [
    "## Part 2: Connecting to Foursquare and Retrieving Locational Data \n",
    "## for Each Venue in Every Neighborhood \n",
    "### After finding the list of neighborhoods, we then connect to the Foursquare API to gather information about venues inside each and every neighborhood. For each neighborhood, we have chosen the radius to be 500 meter. It means that we have asked Foursquare to find venues that are at most 500 meter far from the center of the neighborhood. "
   ]
  },
  {
   "cell_type": "markdown",
   "metadata": {},
   "source": [
    "## Part 3: Processing the Retrieved Data and Creating a DataFrome for All the Venues inside the Scarborough\n",
    "### When the data is completely gathered, we will perform processing on that raw data to find our desirable features for each venue. Our main feature is the category of that venue. After this stage, the column \"Venue's Category\" wil be One-hot encoded and different venues will have different feature-columns. After On-hot encoding we will integrate all restaurant columns to one column \"Total Restaurants\" and all food joint columns to \"Total Joints\" column. We assumed that different resaturants use the Same raw groceries. This assumption is made for simplicity and due to not having a very detailed dataset about different venues. \n",
    "### Now, the dataset is fully ready to be used for machine learning (and statistical analysis) purposes."
   ]
  },
  {
   "cell_type": "markdown",
   "metadata": {},
   "source": [
    "## Part 4: Applying one of Machine Learning Techniques (K-Means Clustering)\n",
    "### Here we cluster neighborhoods via K-means clustering method. We think that 5 clusters is enough and can cover the complexity of our problem. After clustering we will update our dataset and create a column representing the group for each neighborhood. "
   ]
  },
  {
   "cell_type": "markdown",
   "metadata": {},
   "source": [
    "# Decision Making and Reporting Results\n",
    "### Now, we focus on the centers of clusters and compare them for their \"Total Restaurants\" and their \"Total Joints\". The group which its center has the highest \"Total Sum\" will be our best recommendation to the contractor. {Note: Total Sum = Total  Restaurants + Total Joints + Other Venues.} This algorithm although is pretty straightforward yet is strongly powerful. \n",
    "\n",
    "## Results:\n",
    "### Based on this analysis, the best recommended neighborhood will be:\n",
    "### {'Neighborhood': 'Agincourt',\n",
    "### 'Postal Code': 'M1S',\n",
    "### 'Neighborhood Latitude': 43.7942003,\n",
    "### 'Neighborhood Longitude': -79.26202940000002}\n"
   ]
  },
  {
   "cell_type": "markdown",
   "metadata": {},
   "source": [
    "## Thank You !"
   ]
  }
 ],
 "metadata": {
  "kernelspec": {
   "display_name": "Python 3",
   "language": "python",
   "name": "python3"
  },
  "language_info": {
   "codemirror_mode": {
    "name": "ipython",
    "version": 3
   },
   "file_extension": ".py",
   "mimetype": "text/x-python",
   "name": "python",
   "nbconvert_exporter": "python",
   "pygments_lexer": "ipython3",
   "version": "3.7.4"
  }
 },
 "nbformat": 4,
 "nbformat_minor": 2
}
